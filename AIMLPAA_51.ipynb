{
 "cells": [
  {
   "cell_type": "markdown",
   "metadata": {
    "id": "CcUT6Fon_qRE"
   },
   "source": [
    "### Required Assignment 5.1: Will the Customer Accept the Coupon?\n",
    "\n",
    "**Context**\n",
    "\n",
    "Imagine driving through town and a coupon is delivered to your cell phone for a restaurant near where you are driving. Would you accept that coupon and take a short detour to the restaurant? Would you accept the coupon but use it on a subsequent trip? Would you ignore the coupon entirely? What if the coupon was for a bar instead of a restaurant? What about a coffee house? Would you accept a bar coupon with a minor passenger in the car? What about if it was just you and your partner in the car? Would weather impact the rate of acceptance? What about the time of day?\n",
    "\n",
    "Obviously, proximity to the business is a factor on whether the coupon is delivered to the driver or not, but what are the factors that determine whether a driver accepts the coupon once it is delivered to them? How would you determine whether a driver is likely to accept a coupon?\n",
    "\n",
    "**Overview**\n",
    "\n",
    "The goal of this project is to use what you know about visualizations and probability distributions to distinguish between customers who accepted a driving coupon versus those that did not.\n",
    "\n",
    "**Data**\n",
    "\n",
    "This data comes to us from the UCI Machine Learning repository and was collected via a survey on Amazon Mechanical Turk. The survey describes different driving scenarios including the destination, current time, weather, passenger, etc., and then ask the person whether he will accept the coupon if he is the driver. Answers that the user will drive there ‘right away’ or ‘later before the coupon expires’ are labeled as ‘Y = 1’ and answers ‘no, I do not want the coupon’ are labeled as ‘Y = 0’.  There are five different types of coupons -- less expensive restaurants (under \\$20), coffee houses, carry out & take away, bar, and more expensive restaurants (\\$20 - $50)."
   ]
  },
  {
   "cell_type": "markdown",
   "metadata": {
    "id": "1wORvMBJ_qRF"
   },
   "source": [
    "**Deliverables**\n",
    "\n",
    "Your final product should be a brief report that highlights the differences between customers who did and did not accept the coupons.  To explore the data you will utilize your knowledge of plotting, statistical summaries, and visualization using Python. You will publish your findings in a public facing github repository as your first portfolio piece.\n",
    "\n",
    "\n",
    "\n"
   ]
  },
  {
   "cell_type": "markdown",
   "metadata": {
    "id": "pG6_Ym6q_qRG"
   },
   "source": [
    "### Data Description\n",
    "Keep in mind that these values mentioned below are average values.\n",
    "\n",
    "The attributes of this data set include:\n",
    "1. User attributes\n",
    "    -  Gender: male, female\n",
    "    -  Age: below 21, 21 to 25, 26 to 30, etc.\n",
    "    -  Marital Status: single, married partner, unmarried partner, or widowed\n",
    "    -  Number of children: 0, 1, or more than 1\n",
    "    -  Education: high school, bachelors degree, associates degree, or graduate degree\n",
    "    -  Occupation: architecture & engineering, business & financial, etc.\n",
    "    -  Annual income: less than \\\\$12500, \\\\$12500 - \\\\$24999, \\\\$25000 - \\\\$37499, etc.\n",
    "    -  Number of times that he/she goes to a bar: 0, less than 1, 1 to 3, 4 to 8 or greater than 8\n",
    "    -  Number of times that he/she buys takeaway food: 0, less than 1, 1 to 3, 4 to 8 or greater\n",
    "    than 8\n",
    "    -  Number of times that he/she goes to a coffee house: 0, less than 1, 1 to 3, 4 to 8 or\n",
    "    greater than 8\n",
    "    -  Number of times that he/she eats at a restaurant with average expense less than \\\\$20 per\n",
    "    person: 0, less than 1, 1 to 3, 4 to 8 or greater than 8\n",
    "    -  Number of times that he/she goes to a bar: 0, less than 1, 1 to 3, 4 to 8 or greater than 8\n",
    "    \n",
    "\n",
    "2. Contextual attributes\n",
    "    - Driving destination: home, work, or no urgent destination\n",
    "    - Location of user, coupon and destination: we provide a map to show the geographical\n",
    "    location of the user, destination, and the venue, and we mark the distance between each\n",
    "    two places with time of driving. The user can see whether the venue is in the same\n",
    "    direction as the destination.\n",
    "    - Weather: sunny, rainy, or snowy\n",
    "    - Temperature: 30F, 55F, or 80F\n",
    "    - Time: 10AM, 2PM, or 6PM\n",
    "    - Passenger: alone, partner, kid(s), or friend(s)\n",
    "\n",
    "\n",
    "3. Coupon attributes\n",
    "    - time before it expires: 2 hours or one day"
   ]
  },
  {
   "cell_type": "code",
   "execution_count": 236,
   "metadata": {
    "id": "dzNoP3o__qRG"
   },
   "outputs": [],
   "source": [
    "import matplotlib.pyplot as plt\n",
    "import seaborn as sns\n",
    "import pandas as pd\n",
    "import numpy as np"
   ]
  },
  {
   "cell_type": "markdown",
   "metadata": {
    "id": "Ct8pI1uE_qRG"
   },
   "source": [
    "### Problems\n",
    "\n",
    "Use the prompts below to get started with your data analysis.  \n",
    "\n",
    "1. Read in the `coupons.csv` file.\n",
    "\n",
    "\n"
   ]
  },
  {
   "cell_type": "code",
   "execution_count": 237,
   "metadata": {
    "id": "X0vbffYg_qRH"
   },
   "outputs": [],
   "source": [
    "data = pd.read_csv('data/coupons.csv')"
   ]
  },
  {
   "cell_type": "code",
   "execution_count": 238,
   "metadata": {
    "id": "TXofQ_DF_qRH",
    "outputId": "2fc96a2c-1112-4b54-f24f-dbb9bc88abfb"
   },
   "outputs": [
    {
     "data": {
      "text/html": [
       "<div>\n",
       "<style scoped>\n",
       "    .dataframe tbody tr th:only-of-type {\n",
       "        vertical-align: middle;\n",
       "    }\n",
       "\n",
       "    .dataframe tbody tr th {\n",
       "        vertical-align: top;\n",
       "    }\n",
       "\n",
       "    .dataframe thead th {\n",
       "        text-align: right;\n",
       "    }\n",
       "</style>\n",
       "<table border=\"1\" class=\"dataframe\">\n",
       "  <thead>\n",
       "    <tr style=\"text-align: right;\">\n",
       "      <th></th>\n",
       "      <th>destination</th>\n",
       "      <th>passanger</th>\n",
       "      <th>weather</th>\n",
       "      <th>temperature</th>\n",
       "      <th>time</th>\n",
       "      <th>coupon</th>\n",
       "      <th>expiration</th>\n",
       "      <th>gender</th>\n",
       "      <th>age</th>\n",
       "      <th>maritalStatus</th>\n",
       "      <th>...</th>\n",
       "      <th>CoffeeHouse</th>\n",
       "      <th>CarryAway</th>\n",
       "      <th>RestaurantLessThan20</th>\n",
       "      <th>Restaurant20To50</th>\n",
       "      <th>toCoupon_GEQ5min</th>\n",
       "      <th>toCoupon_GEQ15min</th>\n",
       "      <th>toCoupon_GEQ25min</th>\n",
       "      <th>direction_same</th>\n",
       "      <th>direction_opp</th>\n",
       "      <th>Y</th>\n",
       "    </tr>\n",
       "  </thead>\n",
       "  <tbody>\n",
       "    <tr>\n",
       "      <th>0</th>\n",
       "      <td>No Urgent Place</td>\n",
       "      <td>Alone</td>\n",
       "      <td>Sunny</td>\n",
       "      <td>55</td>\n",
       "      <td>2PM</td>\n",
       "      <td>Restaurant(&lt;20)</td>\n",
       "      <td>1d</td>\n",
       "      <td>Female</td>\n",
       "      <td>21</td>\n",
       "      <td>Unmarried partner</td>\n",
       "      <td>...</td>\n",
       "      <td>never</td>\n",
       "      <td>NaN</td>\n",
       "      <td>4~8</td>\n",
       "      <td>1~3</td>\n",
       "      <td>1</td>\n",
       "      <td>0</td>\n",
       "      <td>0</td>\n",
       "      <td>0</td>\n",
       "      <td>1</td>\n",
       "      <td>1</td>\n",
       "    </tr>\n",
       "    <tr>\n",
       "      <th>1</th>\n",
       "      <td>No Urgent Place</td>\n",
       "      <td>Friend(s)</td>\n",
       "      <td>Sunny</td>\n",
       "      <td>80</td>\n",
       "      <td>10AM</td>\n",
       "      <td>Coffee House</td>\n",
       "      <td>2h</td>\n",
       "      <td>Female</td>\n",
       "      <td>21</td>\n",
       "      <td>Unmarried partner</td>\n",
       "      <td>...</td>\n",
       "      <td>never</td>\n",
       "      <td>NaN</td>\n",
       "      <td>4~8</td>\n",
       "      <td>1~3</td>\n",
       "      <td>1</td>\n",
       "      <td>0</td>\n",
       "      <td>0</td>\n",
       "      <td>0</td>\n",
       "      <td>1</td>\n",
       "      <td>0</td>\n",
       "    </tr>\n",
       "    <tr>\n",
       "      <th>2</th>\n",
       "      <td>No Urgent Place</td>\n",
       "      <td>Friend(s)</td>\n",
       "      <td>Sunny</td>\n",
       "      <td>80</td>\n",
       "      <td>10AM</td>\n",
       "      <td>Carry out &amp; Take away</td>\n",
       "      <td>2h</td>\n",
       "      <td>Female</td>\n",
       "      <td>21</td>\n",
       "      <td>Unmarried partner</td>\n",
       "      <td>...</td>\n",
       "      <td>never</td>\n",
       "      <td>NaN</td>\n",
       "      <td>4~8</td>\n",
       "      <td>1~3</td>\n",
       "      <td>1</td>\n",
       "      <td>1</td>\n",
       "      <td>0</td>\n",
       "      <td>0</td>\n",
       "      <td>1</td>\n",
       "      <td>1</td>\n",
       "    </tr>\n",
       "    <tr>\n",
       "      <th>3</th>\n",
       "      <td>No Urgent Place</td>\n",
       "      <td>Friend(s)</td>\n",
       "      <td>Sunny</td>\n",
       "      <td>80</td>\n",
       "      <td>2PM</td>\n",
       "      <td>Coffee House</td>\n",
       "      <td>2h</td>\n",
       "      <td>Female</td>\n",
       "      <td>21</td>\n",
       "      <td>Unmarried partner</td>\n",
       "      <td>...</td>\n",
       "      <td>never</td>\n",
       "      <td>NaN</td>\n",
       "      <td>4~8</td>\n",
       "      <td>1~3</td>\n",
       "      <td>1</td>\n",
       "      <td>1</td>\n",
       "      <td>0</td>\n",
       "      <td>0</td>\n",
       "      <td>1</td>\n",
       "      <td>0</td>\n",
       "    </tr>\n",
       "    <tr>\n",
       "      <th>4</th>\n",
       "      <td>No Urgent Place</td>\n",
       "      <td>Friend(s)</td>\n",
       "      <td>Sunny</td>\n",
       "      <td>80</td>\n",
       "      <td>2PM</td>\n",
       "      <td>Coffee House</td>\n",
       "      <td>1d</td>\n",
       "      <td>Female</td>\n",
       "      <td>21</td>\n",
       "      <td>Unmarried partner</td>\n",
       "      <td>...</td>\n",
       "      <td>never</td>\n",
       "      <td>NaN</td>\n",
       "      <td>4~8</td>\n",
       "      <td>1~3</td>\n",
       "      <td>1</td>\n",
       "      <td>1</td>\n",
       "      <td>0</td>\n",
       "      <td>0</td>\n",
       "      <td>1</td>\n",
       "      <td>0</td>\n",
       "    </tr>\n",
       "  </tbody>\n",
       "</table>\n",
       "<p>5 rows × 26 columns</p>\n",
       "</div>"
      ],
      "text/plain": [
       "       destination  passanger weather  temperature  time  \\\n",
       "0  No Urgent Place      Alone   Sunny           55   2PM   \n",
       "1  No Urgent Place  Friend(s)   Sunny           80  10AM   \n",
       "2  No Urgent Place  Friend(s)   Sunny           80  10AM   \n",
       "3  No Urgent Place  Friend(s)   Sunny           80   2PM   \n",
       "4  No Urgent Place  Friend(s)   Sunny           80   2PM   \n",
       "\n",
       "                  coupon expiration  gender age      maritalStatus  ...  \\\n",
       "0        Restaurant(<20)         1d  Female  21  Unmarried partner  ...   \n",
       "1           Coffee House         2h  Female  21  Unmarried partner  ...   \n",
       "2  Carry out & Take away         2h  Female  21  Unmarried partner  ...   \n",
       "3           Coffee House         2h  Female  21  Unmarried partner  ...   \n",
       "4           Coffee House         1d  Female  21  Unmarried partner  ...   \n",
       "\n",
       "   CoffeeHouse CarryAway RestaurantLessThan20 Restaurant20To50  \\\n",
       "0        never       NaN                  4~8              1~3   \n",
       "1        never       NaN                  4~8              1~3   \n",
       "2        never       NaN                  4~8              1~3   \n",
       "3        never       NaN                  4~8              1~3   \n",
       "4        never       NaN                  4~8              1~3   \n",
       "\n",
       "  toCoupon_GEQ5min toCoupon_GEQ15min toCoupon_GEQ25min direction_same  \\\n",
       "0                1                 0                 0              0   \n",
       "1                1                 0                 0              0   \n",
       "2                1                 1                 0              0   \n",
       "3                1                 1                 0              0   \n",
       "4                1                 1                 0              0   \n",
       "\n",
       "  direction_opp  Y  \n",
       "0             1  1  \n",
       "1             1  0  \n",
       "2             1  1  \n",
       "3             1  0  \n",
       "4             1  0  \n",
       "\n",
       "[5 rows x 26 columns]"
      ]
     },
     "execution_count": 238,
     "metadata": {},
     "output_type": "execute_result"
    }
   ],
   "source": [
    "data.head()"
   ]
  },
  {
   "cell_type": "markdown",
   "metadata": {
    "id": "GcDs78ZH_qRH"
   },
   "source": [
    "2. Investigate the dataset for missing or problematic data."
   ]
  },
  {
   "cell_type": "code",
   "execution_count": 239,
   "metadata": {
    "id": "6CwL6oWj_qRH"
   },
   "outputs": [
    {
     "name": "stdout",
     "output_type": "stream",
     "text": [
      "destination                 0\n",
      "passanger                   0\n",
      "weather                     0\n",
      "temperature                 0\n",
      "time                        0\n",
      "coupon                      0\n",
      "expiration                  0\n",
      "gender                      0\n",
      "age                         0\n",
      "maritalStatus               0\n",
      "has_children                0\n",
      "education                   0\n",
      "occupation                  0\n",
      "income                      0\n",
      "car                     12576\n",
      "Bar                       107\n",
      "CoffeeHouse               217\n",
      "CarryAway                 151\n",
      "RestaurantLessThan20      130\n",
      "Restaurant20To50          189\n",
      "toCoupon_GEQ5min            0\n",
      "toCoupon_GEQ15min           0\n",
      "toCoupon_GEQ25min           0\n",
      "direction_same              0\n",
      "direction_opp               0\n",
      "Y                           0\n",
      "dtype: int64\n"
     ]
    }
   ],
   "source": [
    "missing_values=data.isnull().sum()\n",
    "print(missing_values)\n"
   ]
  },
  {
   "cell_type": "markdown",
   "metadata": {
    "id": "bSdVSpYB_qRH"
   },
   "source": [
    "3. Decide what to do about your missing data -- drop, replace, other..."
   ]
  },
  {
   "cell_type": "markdown",
   "metadata": {
    "id": "bSdVSpYB_qRH"
   },
   "source": [
    "The \"car\" column contains 99.14% missing values; therefore, it was determined that this data was irrelevant for coupon analysis and was subsequently removed.\n",
    "\n",
    "74 duplicate records were identified, and this survey quite possible for duplicates so not removing the duplicates"
   ]
  },
  {
   "cell_type": "code",
   "execution_count": 240,
   "metadata": {},
   "outputs": [
    {
     "data": {
      "application/vnd.jupyter.widget-view+json": {
       "model_id": "a92f02b3d648464882375c9557197a48",
       "version_major": 2,
       "version_minor": 0
      },
      "text/plain": [
       "                                             |  | [  0%]   00:00 -> (? left)"
      ]
     },
     "metadata": {},
     "output_type": "display_data"
    },
    {
     "name": "stdout",
     "output_type": "stream",
     "text": [
      "Report edareport.html was generated! NOTEBOOK/COLAB USERS: the web browser MAY not pop up, regardless, the report IS saved in your notebook/colab files.\n"
     ]
    }
   ],
   "source": [
    "import sweetviz as sv\n",
    "#Generate Exploratory Data Analysis using the sweetviz library\n",
    "report = sv.analyze(data)\n",
    "report.show_html(\"edareport.html\")"
   ]
  },
  {
   "cell_type": "markdown",
   "metadata": {
    "id": "bSdVSpYB_qRH"
   },
   "source": [
    "The Sweetviz library was employed to conduct a thorough analysis of missing data. The library provides the data for each column with visuals and bars, which helps easily understand the missing data. "
   ]
  },
  {
   "cell_type": "code",
   "execution_count": 241,
   "metadata": {
    "id": "tyvoAC5F_qRI"
   },
   "outputs": [
    {
     "name": "stdout",
     "output_type": "stream",
     "text": [
      "(12684, 26)\n",
      "(12684, 25)\n"
     ]
    }
   ],
   "source": [
    "print(data.shape)\n",
    "# Dropping the column and data using axis\n",
    "data=data.drop(\"car\", axis=1)\n",
    "print(data.shape)\n"
   ]
  },
  {
   "cell_type": "code",
   "execution_count": 242,
   "metadata": {},
   "outputs": [
    {
     "name": "stdout",
     "output_type": "stream",
     "text": [
      "Duplicate records in the coupon data 74\n"
     ]
    }
   ],
   "source": [
    "# Find the duplicate rows and print them\n",
    "data_duplicates=data.duplicated().sum();\n",
    "print('Duplicate records in the coupon data',data_duplicates)\n",
    "#print('Before Deletion Data Shape',data.shape)\n",
    "# Delete the duplicates keeping the last duplicate value\n",
    "#data=data.drop_duplicates(keep='last')\n",
    "#print('After Deletion Data Shape',data.shape)"
   ]
  },
  {
   "cell_type": "markdown",
   "metadata": {
    "id": "YE6oJbXd_qRI"
   },
   "source": [
    "4. What proportion of the total observations chose to accept the coupon?\n",
    "\n"
   ]
  },
  {
   "cell_type": "code",
   "execution_count": 243,
   "metadata": {
    "id": "86GGqBTv_qRI"
   },
   "outputs": [
    {
     "name": "stdout",
     "output_type": "stream",
     "text": [
      "Total Coupon Count : 12684\n",
      "Coupon accepted count : 7210\n",
      "The proportion of the total observations chose to accept the coupon is : 0.5684326710816777\n"
     ]
    }
   ],
   "source": [
    "#Evaluate the coupon acceptance observation from column Y in the dataset. 1 being coupon accepted and 0 not being accepted\n",
    "total_coupon_count=data.shape[0]\n",
    "print('Total Coupon Count :',total_coupon_count)\n",
    "coupon_accept_count=data[\"Y\"].value_counts()[1]\n",
    "print( 'Coupon accepted count :',coupon_accept_count)\n",
    "portion_accepted=coupon_accept_count/total_coupon_count\n",
    "print('The proportion of the total observations chose to accept the coupon is :',portion_accepted)\n"
   ]
  },
  {
   "cell_type": "markdown",
   "metadata": {
    "id": "vflz0DoE_qRI"
   },
   "source": [
    "5. Use a bar plot to visualize the `coupon` column."
   ]
  },
  {
   "cell_type": "code",
   "execution_count": 244,
   "metadata": {
    "id": "dHFh3E45_qRI"
   },
   "outputs": [
    {
     "data": {
      "image/png": "[encoded data removed]",
      "text/plain": [
       "<Figure size 640x480 with 1 Axes>"
      ]
     },
     "metadata": {},
     "output_type": "display_data"
    }
   ],
   "source": [
    "\n",
    "color_mapping = {\n",
    "    'Coffee House': 'red',\n",
    "    'Restaurant(<20)': 'green',\n",
    "    'Carry out & Take away': 'blue',\n",
    "    'Bar': 'yellow',\n",
    "    'Restaurant(20-50)': 'orange'\n",
    "}\n",
    "value_counts=data['coupon'].value_counts()\n",
    "data['coupon'].value_counts().plot(kind='bar', color=[color_mapping[coupon] for coupon in value_counts.index])\n",
    "plt.title('Coupon Type Distribution', size=14)\n",
    "plt.xlabel('Coupon Type',size=10)\n",
    "plt.ylabel('Count',size=10)\n",
    "plt.xticks(rotation=45)\n",
    "plt.show()"
   ]
  },
  {
   "cell_type": "markdown",
   "metadata": {
    "id": "Qw4lCyx2_qRI"
   },
   "source": [
    "6. Use a histogram to visualize the temperature column."
   ]
  },
  {
   "cell_type": "code",
   "execution_count": 245,
   "metadata": {
    "id": "Yg9Anv71_qRI"
   },
   "outputs": [
    {
     "data": {
      "image/png": "[encoded data removed]",
      "text/plain": [
       "<Figure size 800x600 with 1 Axes>"
      ]
     },
     "metadata": {},
     "output_type": "display_data"
    }
   ],
   "source": [
    "# Create histogram by temperature with size 8,6\n",
    "plt.figure(figsize=(8, 6))\n",
    "plt.hist(data['temperature'], bins=10, alpha=1,)\n",
    "# Add labels and title\n",
    "plt.xlabel('Temperature')\n",
    "plt.ylabel('Count')\n",
    "plt.title('Histogram of Temperature by Coupon Count')\n",
    "# Show the plot\n",
    "plt.show()"
   ]
  },
  {
   "cell_type": "code",
   "execution_count": null,
   "metadata": {
    "id": "zLtOaJQk_qRI"
   },
   "outputs": [],
   "source": []
  },
  {
   "cell_type": "code",
   "execution_count": null,
   "metadata": {
    "id": "7GBHZKBp_qRJ"
   },
   "outputs": [],
   "source": []
  },
  {
   "cell_type": "code",
   "execution_count": null,
   "metadata": {
    "id": "Y5nBUA-j_qRJ"
   },
   "outputs": [],
   "source": []
  },
  {
   "cell_type": "code",
   "execution_count": null,
   "metadata": {
    "id": "ShcUC-Vm_qRJ"
   },
   "outputs": [],
   "source": []
  },
  {
   "cell_type": "markdown",
   "metadata": {
    "id": "FupfgeJk_qRJ"
   },
   "source": [
    "**Investigating the Bar Coupons**\n",
    "\n",
    "Now, we will lead you through an exploration of just the bar related coupons.  \n",
    "\n",
    "1. Create a new `DataFrame` that contains just the bar coupons.\n"
   ]
  },
  {
   "cell_type": "code",
   "execution_count": 246,
   "metadata": {
    "id": "tMBlWuGq_qRJ"
   },
   "outputs": [],
   "source": [
    "data_bar_coupon=data.query(\"coupon=='Bar'\")\n",
    "#data_bar_coupon.head(5)"
   ]
  },
  {
   "cell_type": "markdown",
   "metadata": {
    "id": "8ue6uCqf_qRJ"
   },
   "source": [
    "2. What proportion of bar coupons were accepted?\n"
   ]
  },
  {
   "cell_type": "code",
   "execution_count": 247,
   "metadata": {
    "id": "hSdte8Mi_qRK"
   },
   "outputs": [
    {
     "name": "stdout",
     "output_type": "stream",
     "text": [
      "Total Bar Coupons :  2017\n",
      "Bar Accepted Coupons :  827\n",
      "The proportion of bar coupons were accepted is : 0.41001487357461575\n"
     ]
    }
   ],
   "source": [
    "#Total Bar Coupons \n",
    "total_bar_coupon=data_bar_coupon.shape[0]\n",
    "print('Total Bar Coupons : ', total_bar_coupon)\n",
    "#Accepted Bar Coupons \n",
    "bar_accepted_coupon=data_bar_coupon['Y'].value_counts()[1]\n",
    "print('Bar Accepted Coupons : ', bar_accepted_coupon)\n",
    "#proportion formula accepted/total bar coupon \n",
    "bar_accepted_portion= bar_accepted_coupon/total_bar_coupon\n",
    "print('The proportion of bar coupons were accepted is :', bar_accepted_portion)\n"
   ]
  },
  {
   "cell_type": "markdown",
   "metadata": {
    "id": "8ue6uCqf_qRJ"
   },
   "source": [
    "The Bar Coupon was accepted around 41% of the times\n"
   ]
  },
  {
   "cell_type": "markdown",
   "metadata": {
    "id": "85nA_iEi_qRK"
   },
   "source": [
    "3. Compare the acceptance rate between those who went to a bar 3 or fewer times a month to those who went more.\n"
   ]
  },
  {
   "cell_type": "code",
   "execution_count": 248,
   "metadata": {
    "id": "LBOrN-XM_qRK"
   },
   "outputs": [
    {
     "name": "stdout",
     "output_type": "stream",
     "text": [
      "['never' 'less1' '1~3' 'gt8' nan '4~8']\n",
      "The acceptance rate 3 or less time in month is : 0.5274043433298863\n",
      "The acceptance rate more than 3 in month is : 0.7688442211055276\n"
     ]
    }
   ],
   "source": [
    "# To see what the unique values exist in the bar columns \n",
    "bar_unique=data_bar_coupon['Bar'].unique()\n",
    "print(bar_unique)\n",
    "# To get who went to the bar 3 or less than 3 times \n",
    "data_fewer_than_3= data_bar_coupon[data_bar_coupon['Bar'].isin(['less1','1~3'])]\n",
    "# To get who went to the bar more than 3 times \n",
    "data_more_than_3= data_bar_coupon[data_bar_coupon['Bar'].isin(['4~8','gt8'])]\n",
    "#Acceptance rate verified by using the mean method \n",
    "acceptance_rate_3_or_less=data_fewer_than_3['Y'].mean()\n",
    "acceptance_rate_morethan_3 =data_more_than_3['Y'].mean()\n",
    "\n",
    "print('The acceptance rate 3 or less time in month is :',acceptance_rate_3_or_less )\n",
    "print('The acceptance rate more than 3 in month is :',acceptance_rate_morethan_3 )\n",
    "\n",
    "\n",
    "\n"
   ]
  },
  {
   "cell_type": "markdown",
   "metadata": {
    "id": "85nA_iEi_qRK"
   },
   "source": [
    "The bar coupon acceptance for those who go to the bar 3 or fewer times in a month is approximately 53%.\n",
    "The bar coupon acceptance for those who go to the bar more than 3 times in a month is 77% approximately.\n",
    "\n",
    "\n"
   ]
  },
  {
   "cell_type": "markdown",
   "metadata": {
    "id": "RBgcQwH4_qRK"
   },
   "source": [
    "4. Compare the acceptance rate between drivers who go to a bar more than once a month and are over the age of 25 to the all others.  Is there a difference?\n"
   ]
  },
  {
   "cell_type": "code",
   "execution_count": 249,
   "metadata": {
    "id": "bf28bbeX_qRK"
   },
   "outputs": [
    {
     "name": "stdout",
     "output_type": "stream",
     "text": [
      "The acceptance rate for drivers who go to a bar more than once a month and are over the age of 25 : 0.6952380952380952\n",
      "The acceptance rate for other drivers  : 0.26349496797804206\n"
     ]
    }
   ],
   "source": [
    "# To find unique ages from the data \n",
    "data['age'].unique()\n",
    "# replace age character with numeric values\n",
    "data['age_numeric']=data['age'].replace({'50plus':50,'below21':20}).astype(int)\n",
    "data_bar_coupon=data.query(\"coupon=='Bar'\")\n",
    "#Filter drivers who go to a bar more than once a month and are over the age of 25 \n",
    "data_more_than_25=data_bar_coupon[(data_bar_coupon['Bar'].isin(['1~3','gt8','4~8'])) & (data_bar_coupon['age_numeric']>25)]\n",
    "#Finding other drivers with not equals of above data set \n",
    "data_others=data_bar_coupon[~(data_bar_coupon['Bar'].isin(['1~3','gt8','4~8'])) & (data_bar_coupon['age_numeric']>25)]\n",
    "#Calculate acceptance rate criteria for  groups \n",
    "data_more_than_25_acceptance =data_more_than_25['Y'].mean()\n",
    "data_others_acceptance=data_others['Y'].mean()\n",
    "print('The acceptance rate for drivers who go to a bar more than once a month and are over the age of 25 :',data_more_than_25_acceptance)\n",
    "print('The acceptance rate for other drivers  :',data_others_acceptance)"
   ]
  },
  {
   "cell_type": "markdown",
   "metadata": {
    "id": "S4RKT4PJ_qRK"
   },
   "source": [
    "The bar coupon acceptance rate for drivers who go to the bar more than once a month and are over the age of 25 is 69% approximately.\n",
    "The bar coupon acceptance rate for other drivers 26% approximately. \n",
    "\n"
   ]
  },
  {
   "cell_type": "markdown",
   "metadata": {
    "id": "S4RKT4PJ_qRK"
   },
   "source": [
    "5. Use the same process to compare the acceptance rate between drivers who go to bars more than once a month and had passengers that were not a kid and had occupations other than farming, fishing, or forestry.\n"
   ]
  },
  {
   "cell_type": "code",
   "execution_count": 250,
   "metadata": {
    "id": "sENaI2Tg_qRK"
   },
   "outputs": [
    {
     "name": "stdout",
     "output_type": "stream",
     "text": [
      "Acceptance rate who go to bars more than once a month and had passengers that were not a kid : 0.7132486388384754\n",
      "Acceptance rate for others : 0.296043656207367\n"
     ]
    }
   ],
   "source": [
    "#filter who go to bars more than once a month and had passengers that were not a kid \n",
    "data_bar_coupon=data.query(\"coupon=='Bar'\")\n",
    "data_more_than_once_not_kids=data_bar_coupon[(data_bar_coupon['Bar'].isin(['1~3','gt8','4~8'])) & (data_bar_coupon['passanger']!='Kid(s)') & (~data_bar_coupon['occupation'].isin(['Farming Fishing & Forestry']))]\n",
    "# Acceptance rate calculation using the mean\n",
    "acceptance_rate_not_kids=data_more_than_once_not_kids['Y'].mean()\n",
    "print('Acceptance rate who go to bars more than once a month and had passengers that were not a kid :',acceptance_rate_not_kids)\n",
    "# Acceptance rate for others\n",
    "data_others = data_bar_coupon[~data_bar_coupon.index.isin(data_more_than_once_not_kids.index)]\n",
    "acceptance_others = data_others['Y'].mean()\n",
    "print('Acceptance rate for others :', acceptance_others)\n"
   ]
  },
  {
   "cell_type": "markdown",
   "metadata": {
    "id": "n2LIUTil_qRK"
   },
   "source": [
    "6. Compare the acceptance rates between those drivers who:\n",
    "\n",
    "- go to bars more than once a month, had passengers that were not a kid, and were not widowed *OR*\n",
    "- go to bars more than once a month and are under the age of 30 *OR*\n",
    "- go to cheap restaurants more than 4 times a month and income is less than 50K.\n",
    "\n"
   ]
  },
  {
   "cell_type": "code",
   "execution_count": 251,
   "metadata": {
    "id": "aK_wEzx7_qRK"
   },
   "outputs": [
    {
     "name": "stdout",
     "output_type": "stream",
     "text": [
      "The acceptance rate for go to bars more than once a month, had passengers that were not a kid, and were not widowed : 0.7132486388384754\n",
      "The acceptance rate for go to bars more than once a month and are under the age of 30 : 0.7217391304347827\n",
      "The acceptance rate go to cheap restaurants more than 4 times a month and income is less than 50K 0.6007020623080298\n"
     ]
    }
   ],
   "source": [
    "# Filter1: Go to bars more than once a month, had passengers that were not a kid, and were not widowed\n",
    "Question1 = (data_bar_coupon['Bar'].isin(['1~3', '4~8', 'gt8'])) & (data_bar_coupon['passanger'] != 'Kid(s)') & (data_bar_coupon['maritalStatus'] != 'Widowed')\n",
    "# Filter 2: Go to bars more than once a month and are under the age of 30\n",
    "# conversion of age strings to numeric values converted to 'age_numeric' column on data dataframe\n",
    "Question2 = (data_bar_coupon['Bar'].isin(['1~3', '4~8', 'gt8'])) & (data_bar_coupon['age_numeric'] < 30)\n",
    "# Filter 3: Go to cheap restaurants more than 4 times a month and income is less than 50K \n",
    "Question3 = (data['RestaurantLessThan20'].isin(['4~8', 'gt8'])) & (data['income'].isin(['Less than $12500', '$12500 - $24999', '$25000 - $37499', '$37500 - $49999']))\n",
    "\n",
    "#Apply conditions to filter dataset \n",
    "filter_Q1=data_bar_coupon[Question1]\n",
    "filter_Q2=data_bar_coupon[Question2]\n",
    "filter_Q3=data[Question3]\n",
    "\n",
    "#calculate acceptance rates \n",
    "filter_Q1_acceptance_rate=filter_Q1['Y'].mean()\n",
    "filter_Q2_acceptance_rate=filter_Q2['Y'].mean()\n",
    "filter_Q3_acceptance_rate=filter_Q3['Y'].mean()\n",
    "\n",
    "print ('The acceptance rate for go to bars more than once a month, had passengers that were not a kid, and were not widowed :',filter_Q1_acceptance_rate)\n",
    "print('The acceptance rate for go to bars more than once a month and are under the age of 30 :', filter_Q2_acceptance_rate)\n",
    "print ('The acceptance rate go to cheap restaurants more than 4 times a month and income is less than 50K', filter_Q3_acceptance_rate)\n"
   ]
  },
  {
   "cell_type": "markdown",
   "metadata": {
    "id": "n2LIUTil_qRK"
   },
   "source": [
    "The bar coupon acceptance rate was approximately 71% for drivers who visit bars more than once a month, have passengers other than children, and are not widowed.\n",
    "\n",
    "The acceptance rate for drivers under 30 who visit bars more than once a month was around 72%.\n",
    "\n",
    "The acceptance rate dropped to 60% for drivers who dine at inexpensive restaurants more than four times a month and have an income below $50K.\n",
    "\n"
   ]
  },
  {
   "cell_type": "markdown",
   "metadata": {
    "id": "v3fL3QkO_qRK"
   },
   "source": [
    "7.  Based on these observations, what do you hypothesize about drivers who accepted the bar coupons?"
   ]
  },
  {
   "cell_type": "markdown",
   "metadata": {
    "id": "v3fL3QkO_qRK"
   },
   "source": [
    "Hypothesis on Bar Coupon Acceptance\n",
    "Based on the observations, we can hypothesize the following factors influencing bar coupon acceptance among drivers:\n",
    "\n",
    "1. Frequency of Bar Visits\n",
    "Drivers who visit bars frequently, particularly more than three times a month, are significantly more likely to accept bar coupons. This suggests a strong correlation between bar-going habits and coupon acceptance, likely because regular patrons place a higher value on such discounts.\n",
    "\n",
    "2. Age \n",
    "Younger drivers, especially those under 30, exhibit a higher acceptance rate for bar coupons. This trend may indicate that younger demographics are more inclined toward social outings, such as bar visits, and are more receptive to promotional offers related to these activities.\n",
    "\n",
    "3. Marital Status and Occupation\n",
    "Drivers who are not widowed and work outside farming, fishing, or forestry professions are more likely to accept bar coupons. This may reflect lifestyle differences, where individuals in certain occupations or marital statuses engage in social activities more frequently or perceive leisure-related discounts as more valuable.\n",
    "\n",
    "4. Economic and Dining Preferences\n",
    "Economic status and dining habits appear to influence coupon acceptance. For instance, drivers who frequent inexpensive restaurants more than four times a month and earn less than $50K have distinct acceptance rates. This suggests that financial considerations and dining preferences may shape their perception of bar coupons' value.\n",
    "\n",
    "5. General Trends Among Other Drivers\n",
    "The lower acceptance rate among \"all other drivers\" indicates that specific demographic and behavioral traits significantly impact coupon acceptance. This group likely consists of individuals who do not frequent bars or do not align with the characteristics associated with higher acceptance rates.\n",
    "\n",
    "Conclusion\n",
    "These hypotheses suggest that a combination of demographic factors (age, marital status), behavioral patterns (bar visit frequency), economic conditions, and personal preferences (dining habits) play a crucial role in determining the likelihood of accepting bar coupons."
   ]
  },
  {
   "cell_type": "markdown",
   "metadata": {
    "id": "r4Hu1zOb_qRL"
   },
   "source": [
    "### Independent Investigation\n",
    "\n",
    "Using the bar coupon example as motivation, you are to explore one of the other coupon groups and try to determine the characteristics of passengers who accept the coupons.  "
   ]
  },
  {
   "cell_type": "code",
   "execution_count": 252,
   "metadata": {
    "id": "0c71cQhu_qRL"
   },
   "outputs": [],
   "source": [
    "data_coffee_coupon=data.query(\"coupon=='Coffee House'\")"
   ]
  },
  {
   "cell_type": "code",
   "execution_count": 253,
   "metadata": {
    "id": "QEsBkvIN_qRL"
   },
   "outputs": [
    {
     "name": "stdout",
     "output_type": "stream",
     "text": [
      "Total Coffee Coupons :  3996\n",
      "Coffee Coupon Accepted  :  1995\n",
      "The proportion of coffee coupons were accepted is : 0.49924924924924924\n"
     ]
    }
   ],
   "source": [
    "#Total Coffee House Coupons \n",
    "total_coffee_coupon=data_coffee_coupon.shape[0]\n",
    "print('Total Coffee Coupons : ', total_coffee_coupon)\n",
    "#Accepted Coffee Coupons \n",
    "coffee_accepted_coupon=data_coffee_coupon['Y'].value_counts()[1]\n",
    "print('Coffee Coupon Accepted  : ', coffee_accepted_coupon)\n",
    "#proportion formula accepted/total bar coupon \n",
    "coffee_accepted_portion= coffee_accepted_coupon/total_coffee_coupon\n",
    "print('The proportion of coffee coupons were accepted is :', coffee_accepted_portion)\n"
   ]
  },
  {
   "cell_type": "markdown",
   "metadata": {
    "id": "fTC2WGE3_qRL"
   },
   "source": [
    "The Coffee Coupon was accepted around 50% of the times"
   ]
  },
  {
   "cell_type": "code",
   "execution_count": 254,
   "metadata": {
    "id": "RrqUWn7d_qRL"
   },
   "outputs": [
    {
     "name": "stdout",
     "output_type": "stream",
     "text": [
      "['never' 'less1' '4~8' '1~3' 'gt8' nan]\n",
      "The acceptance rate 3 or less time in month is : 0.5635333018422296\n",
      "The acceptance rate more than 3 in month is : 0.675\n"
     ]
    }
   ],
   "source": [
    "# To see what the unique values exist in the coffee columns \n",
    "Coffee_unique=data_coffee_coupon['CoffeeHouse'].unique()\n",
    "print(Coffee_unique)\n",
    "# To get who went to the bar 3 or less than 3 times \n",
    "data_less_than_3= data_coffee_coupon[data_coffee_coupon['CoffeeHouse'].isin(['less1','1~3'])]\n",
    "# To get who went to the bar more than 3 times \n",
    "data_greater_than_3= data_coffee_coupon[data_coffee_coupon['CoffeeHouse'].isin(['4~8','gt8'])]\n",
    "#Acceptance rate verified by using the mean method \n",
    "coffee_acceptance_rate_3_or_less=data_less_than_3['Y'].mean()\n",
    "coffee_acceptance_rate_morethan_3 =data_greater_than_3['Y'].mean()\n",
    "\n",
    "print('The acceptance rate 3 or less time in month is :',coffee_acceptance_rate_3_or_less )\n",
    "print('The acceptance rate more than 3 in month is :',coffee_acceptance_rate_morethan_3 )\n",
    "\n"
   ]
  },
  {
   "cell_type": "markdown",
   "metadata": {
    "id": "_oykf8YP_qRL"
   },
   "source": [
    "The Coffee House Coupon acceptance rate 3 or less time in a month is around 56%\n",
    "The Coffee House Coupon acceptance rate more than 3 in a month is 67%"
   ]
  },
  {
   "cell_type": "code",
   "execution_count": 255,
   "metadata": {},
   "outputs": [],
   "source": [
    "data_declined_coffee = data[(data['coupon']=='Coffee House') & (data['Y']==0)]\n",
    "#print('Coffee House Coupons Declined :', data_declined_coffee)"
   ]
  },
  {
   "cell_type": "code",
   "execution_count": 256,
   "metadata": {},
   "outputs": [
    {
     "name": "stdout",
     "output_type": "stream",
     "text": [
      "Distribution by Age:\n",
      " age_numeric\n",
      "21    20.989505\n",
      "26    20.439780\n",
      "31    16.291854\n",
      "50    15.792104\n",
      "36    10.694653\n",
      "41     8.095952\n",
      "46     5.347326\n",
      "20     2.348826\n",
      "Name: proportion, dtype: float64\n"
     ]
    },
    {
     "data": {
      "text/plain": [
       "Text(0.5, 1.0, 'Coffee House Coupon Declines by Age')"
      ]
     },
     "execution_count": 256,
     "metadata": {},
     "output_type": "execute_result"
    },
    {
     "data": {
      "image/png": "[encoded data removed]",
      "text/plain": [
       "<Figure size 640x480 with 1 Axes>"
      ]
     },
     "metadata": {},
     "output_type": "display_data"
    }
   ],
   "source": [
    "# Coupons decline by age\n",
    "distr_by_age = data_declined_coffee['age_numeric'].value_counts(normalize=True) * 100\n",
    "\n",
    "print('Distribution by Age:\\n', distr_by_age)\n",
    "# plot declines by Age\n",
    "sns.countplot(x='age', data=data_declined_coffee, hue='age', palette='viridis', order = data_declined_coffee['age'].value_counts().index)\n",
    "plt.title('Coffee House Coupon Declines by Age')"
   ]
  },
  {
   "cell_type": "markdown",
   "metadata": {},
   "source": [
    "Coffee Coupon Declined age highest for ages 21 & 26 and least decline for age below 21"
   ]
  },
  {
   "cell_type": "code",
   "execution_count": 257,
   "metadata": {},
   "outputs": [
    {
     "name": "stdout",
     "output_type": "stream",
     "text": [
      "Distribution by Martial Status:\n",
      " maritalStatus\n",
      "Married partner      39.030485\n",
      "Single               37.481259\n",
      "Unmarried partner    18.690655\n",
      "Divorced              3.598201\n",
      "Widowed               1.199400\n",
      "Name: proportion, dtype: float64\n"
     ]
    },
    {
     "data": {
      "text/plain": [
       "Text(0.5, 1.0, 'Coffee House Coupon Declines by MaritalStatus')"
      ]
     },
     "execution_count": 257,
     "metadata": {},
     "output_type": "execute_result"
    },
    {
     "data": {
      "image/png": "[encoded data removed]",
      "text/plain": [
       "<Figure size 640x480 with 1 Axes>"
      ]
     },
     "metadata": {},
     "output_type": "display_data"
    }
   ],
   "source": [
    "# Coupons decline by age and marital Status\n",
    "distr_by_maritialStatus = data_declined_coffee['maritalStatus'].value_counts(normalize=True) * 100\n",
    "\n",
    "print('Distribution by Martial Status:\\n', distr_by_maritialStatus)\n",
    "# plot declines by Age\n",
    "sns.countplot(x='maritalStatus', data=data_declined_coffee, hue='age',palette='plasma', order = data_declined_coffee['maritalStatus'].value_counts().index)\n",
    "plt.title('Coffee House Coupon Declines by MaritalStatus')"
   ]
  },
  {
   "cell_type": "markdown",
   "metadata": {},
   "source": [
    "The highest coupon decline rate is single and age is 21 and lowest decline is divorced and age 21."
   ]
  },
  {
   "cell_type": "code",
   "execution_count": 258,
   "metadata": {},
   "outputs": [
    {
     "name": "stdout",
     "output_type": "stream",
     "text": [
      "Distribution by Education:\n",
      " education\n",
      "Bachelors degree                          36.781609\n",
      "Some college - no degree                  33.183408\n",
      "Graduate degree (Masters or Doctorate)    14.642679\n",
      "Associates degree                          8.445777\n",
      "High School Graduate                       6.396802\n",
      "Some High School                           0.549725\n",
      "Name: proportion, dtype: float64\n"
     ]
    },
    {
     "data": {
      "text/plain": [
       "Text(0.5, 1.0, 'Coffee House Coupon Declines by Education')"
      ]
     },
     "execution_count": 258,
     "metadata": {},
     "output_type": "execute_result"
    },
    {
     "data": {
      "image/png": "[encoded data removed]",
      "text/plain": [
       "<Figure size 1600x600 with 1 Axes>"
      ]
     },
     "metadata": {},
     "output_type": "display_data"
    }
   ],
   "source": [
    "# Coupons decline by Education\n",
    "distr_by_education = data_declined_coffee['education'].value_counts(normalize=True) * 100\n",
    "plt.figure(figsize=(16, 6))\n",
    "print('Distribution by Education:\\n', distr_by_education)\n",
    "# plot declines by Age\n",
    "\n",
    "sns.countplot(x='education', data=data_declined_coffee,hue='education', palette='magma', order = data_declined_coffee['education'].value_counts().index)\n",
    "plt.title('Coffee House Coupon Declines by Education')"
   ]
  },
  {
   "cell_type": "markdown",
   "metadata": {},
   "source": [
    "The Coffee House Coupon highest decline for Bachelors degree and next decline is some colleges\n",
    "The lowest decline or hight accept rate of the coffee coupon is high school graduates"
   ]
  },
  {
   "cell_type": "markdown",
   "metadata": {},
   "source": [
    "Observations\n",
    "\n",
    "Age: The age groups of 21 and 26 years old are the most likely to decline Coffee House Coupons, The most declines for the ages 21 through 31st, delcines 47%. This suggests that younger adults in their early to mid-twenties are more inclined to decline these coupons.\n",
    "\n",
    "Marital Status: The majority of declines come from individuals with a married partner (approximately 39%) and singles (approximately 37%). This indicates that marital status, particularly being married or single, plays a significant role in the likelihood of declining Coffee House coupons.\n",
    "\n",
    "Education: Individuals with a Bachelor's degree are the most likely to decline these coupons, making up approximately 37% of the declines, followed by those with some college but no degree (approximately 33%). This suggests a higher tendency to decline among those with higher education levels."
   ]
  },
  {
   "cell_type": "code",
   "execution_count": null,
   "metadata": {},
   "outputs": [],
   "source": []
  }
 ],
 "metadata": {
  "colab": {
   "provenance": []
  },
  "kernelspec": {
   "display_name": "Python 3 (ipykernel)",
   "language": "python",
   "name": "python3"
  },
  "language_info": {
   "codemirror_mode": {
    "name": "ipython",
    "version": 3
   },
   "file_extension": ".py",
   "mimetype": "text/x-python",
   "name": "python",
   "nbconvert_exporter": "python",
   "pygments_lexer": "ipython3",
   "version": "3.13.1"
  }
 },
 "nbformat": 4,
 "nbformat_minor": 4
}
